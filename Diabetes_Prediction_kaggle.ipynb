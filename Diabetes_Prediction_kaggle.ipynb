{
  "nbformat": 4,
  "nbformat_minor": 0,
  "metadata": {
    "colab": {
      "provenance": [],
      "authorship_tag": "ABX9TyNL79YHDju5KBpVAZXT7NPF",
      "include_colab_link": true
    },
    "kernelspec": {
      "name": "python3",
      "display_name": "Python 3"
    },
    "language_info": {
      "name": "python"
    }
  },
  "cells": [
    {
      "cell_type": "markdown",
      "metadata": {
        "id": "view-in-github",
        "colab_type": "text"
      },
      "source": [
        "<a href=\"https://colab.research.google.com/github/techbrothers3/Diabetes-prediction-kaggle/blob/main/Diabetes_Prediction_kaggle.ipynb\" target=\"_parent\"><img src=\"https://colab.research.google.com/assets/colab-badge.svg\" alt=\"Open In Colab\"/></a>"
      ]
    },
    {
      "cell_type": "code",
      "execution_count": 8,
      "metadata": {
        "id": "FFfuEh0jC6PY"
      },
      "outputs": [],
      "source": [
        "import pandas as pd\n",
        "from sklearn.neighbors import KNeighborsClassifier\n",
        "from sklearn.svm import SVC\n",
        "from sklearn.linear_model import LogisticRegression\n",
        "from sklearn.naive_bayes import GaussianNB\n",
        "from sklearn.preprocessing import StandardScaler\n",
        "from sklearn.model_selection import train_test_split\n",
        "from sklearn.metrics import accuracy_score, classification_report"
      ]
    },
    {
      "cell_type": "code",
      "source": [
        "class ClassificationModel:\n",
        "    def __init__(self, data_url, target_column):\n",
        "        self.data_url = data_url\n",
        "        self.target_column = target_column\n",
        "        self.data = None\n",
        "        self.models = {\n",
        "            'KNN': KNeighborsClassifier(),\n",
        "            'SVM': SVC(),\n",
        "            'Logistic Regression': LogisticRegression(),\n",
        "            'Naive Bayes': GaussianNB()\n",
        "        }\n",
        "        self.scaler = StandardScaler()\n",
        "\n",
        "    def load_data(self):\n",
        "        self.data = pd.read_csv(self.data_url)\n",
        "\n",
        "    def preprocess_data(self):\n",
        "        X = self.data.drop([self.target_column], axis=1)\n",
        "        y = self.data[self.target_column]\n",
        "\n",
        "        X_train, X_test, y_train, y_test = train_test_split(X, y, test_size=0.2, random_state=42)\n",
        "\n",
        "        X_train = self.scaler.fit_transform(X_train)\n",
        "        X_test = self.scaler.transform(X_test)\n",
        "\n",
        "        return X_train, X_test, y_train, y_test\n",
        "\n",
        "    def train_models(self, X_train, y_train):\n",
        "        for model_name, model in self.models.items():\n",
        "            model.fit(X_train, y_train)\n",
        "            print(f\"{model_name} trained successfully.\")\n",
        "\n",
        "    def evaluate_models(self, X_test, y_test):\n",
        "        for model_name, model in self.models.items():\n",
        "            y_pred = model.predict(X_test)\n",
        "            accuracy = accuracy_score(y_test, y_pred)\n",
        "            report = classification_report(y_test, y_pred)\n",
        "            print(f\"\\n{model_name} Evaluation:\")\n",
        "            print(f\"Accuracy: {accuracy:.4f}\")\n",
        "            print(f\"Classification Report:\\n{report}\")"
      ],
      "metadata": {
        "id": "swkZunHUDRdj"
      },
      "execution_count": 10,
      "outputs": []
    },
    {
      "cell_type": "code",
      "source": [
        "if __name__ == \"__main__\":\n",
        "\n",
        "  diabetes_model = ClassificationModel(\"diabetes.csv\", \"Outcome\")\n",
        "\n",
        "  diabetes_model.load_data()\n",
        "\n",
        "  X_train, X_test, y_train, y_test = diabetes_model.preprocess_data()\n",
        "\n",
        "  diabetes_model.train_models(X_train, y_train)\n",
        "\n",
        "  diabetes_model.evaluate_models(X_test, y_test)"
      ],
      "metadata": {
        "colab": {
          "base_uri": "https://localhost:8080/"
        },
        "id": "E0Ja9Pt4JPqG",
        "outputId": "dffc2152-93b5-4a50-df73-73af78056fa3"
      },
      "execution_count": 11,
      "outputs": [
        {
          "output_type": "stream",
          "name": "stdout",
          "text": [
            "KNN trained successfully.\n",
            "SVM trained successfully.\n",
            "Logistic Regression trained successfully.\n",
            "Naive Bayes trained successfully.\n",
            "\n",
            "KNN Evaluation:\n",
            "Accuracy: 0.6948\n",
            "Classification Report:\n",
            "              precision    recall  f1-score   support\n",
            "\n",
            "           0       0.75      0.80      0.77        99\n",
            "           1       0.58      0.51      0.54        55\n",
            "\n",
            "    accuracy                           0.69       154\n",
            "   macro avg       0.66      0.65      0.66       154\n",
            "weighted avg       0.69      0.69      0.69       154\n",
            "\n",
            "\n",
            "SVM Evaluation:\n",
            "Accuracy: 0.7338\n",
            "Classification Report:\n",
            "              precision    recall  f1-score   support\n",
            "\n",
            "           0       0.77      0.83      0.80        99\n",
            "           1       0.65      0.56      0.60        55\n",
            "\n",
            "    accuracy                           0.73       154\n",
            "   macro avg       0.71      0.70      0.70       154\n",
            "weighted avg       0.73      0.73      0.73       154\n",
            "\n",
            "\n",
            "Logistic Regression Evaluation:\n",
            "Accuracy: 0.7532\n",
            "Classification Report:\n",
            "              precision    recall  f1-score   support\n",
            "\n",
            "           0       0.81      0.80      0.81        99\n",
            "           1       0.65      0.67      0.66        55\n",
            "\n",
            "    accuracy                           0.75       154\n",
            "   macro avg       0.73      0.74      0.73       154\n",
            "weighted avg       0.76      0.75      0.75       154\n",
            "\n",
            "\n",
            "Naive Bayes Evaluation:\n",
            "Accuracy: 0.7662\n",
            "Classification Report:\n",
            "              precision    recall  f1-score   support\n",
            "\n",
            "           0       0.83      0.80      0.81        99\n",
            "           1       0.66      0.71      0.68        55\n",
            "\n",
            "    accuracy                           0.77       154\n",
            "   macro avg       0.75      0.75      0.75       154\n",
            "weighted avg       0.77      0.77      0.77       154\n",
            "\n"
          ]
        }
      ]
    },
    {
      "cell_type": "code",
      "source": [],
      "metadata": {
        "id": "cDNtY7HULqCm"
      },
      "execution_count": null,
      "outputs": []
    }
  ]
}